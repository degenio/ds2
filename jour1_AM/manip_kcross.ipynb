{
 "cells": [
  {
   "cell_type": "markdown",
   "metadata": {},
   "source": [
    "# Pratique K-cross validation"
   ]
  },
  {
   "cell_type": "code",
   "execution_count": 3,
   "metadata": {
    "collapsed": true
   },
   "outputs": [],
   "source": [
    "\n",
    "import numpy as np\n",
    "from sklearn.model_selection import KFold"
   ]
  },
  {
   "cell_type": "code",
   "execution_count": 29,
   "metadata": {},
   "outputs": [
    {
     "name": "stdout",
     "output_type": "stream",
     "text": [
      "TRAIN indices: [2 3 4 5] TEST: [0 1]\n",
      "X TRAIN: [[ 5  6]\n",
      " [ 7  8]\n",
      " [ 9 10]\n",
      " [11 12]], TEST:[[1 2]\n",
      " [3 4]]\n",
      "==========\n",
      "Y TRAIN: [23 24 25 26], TEST:[21 22]\n",
      "----------\n",
      "TRAIN indices: [0 1 4 5] TEST: [2 3]\n",
      "X TRAIN: [[ 1  2]\n",
      " [ 3  4]\n",
      " [ 9 10]\n",
      " [11 12]], TEST:[[5 6]\n",
      " [7 8]]\n",
      "==========\n",
      "Y TRAIN: [21 22 25 26], TEST:[23 24]\n",
      "----------\n",
      "TRAIN indices: [0 1 2 3] TEST: [4 5]\n",
      "X TRAIN: [[1 2]\n",
      " [3 4]\n",
      " [5 6]\n",
      " [7 8]], TEST:[[ 9 10]\n",
      " [11 12]]\n",
      "==========\n",
      "Y TRAIN: [21 22 23 24], TEST:[25 26]\n",
      "----------\n"
     ]
    }
   ],
   "source": [
    "# X data is an array  \n",
    "# Y data is an array  \n",
    " \n",
    "X = np.array([[1, 2], [3, 4], [5, 6], [7, 8],[9,10],[11,12]])\n",
    "y = np.array([21, 22, 23, 24,25,26])\n",
    "kf = KFold(n_splits=3)\n",
    "#kf.get_n_splits(X)\n",
    "\n",
    "#print(kf)  \n",
    "#KFold(n_splits=3, random_state=None, shuffle=False)\n",
    "for train_index, test_index in kf.split(X):\n",
    "    print(\"TRAIN indices:\", train_index, \"TEST:\", test_index)\n",
    "    X_train, X_test = X[train_index], X[test_index]\n",
    "    y_train, y_test = y[train_index], y[test_index]\n",
    "    print(\"X TRAIN: {}, TEST:{}\".format(X_train, X_test))\n",
    "    print(\"=\"*10)\n",
    "    print(\"Y TRAIN: {}, TEST:{}\".format(y_train, y_test))\n",
    "    print(\"-\"*10)\n",
    "    \n",
    "\n",
    " "
   ]
  },
  {
   "cell_type": "code",
   "execution_count": null,
   "metadata": {
    "collapsed": true
   },
   "outputs": [],
   "source": []
  }
 ],
 "metadata": {
  "kernelspec": {
   "display_name": "Python 3",
   "language": "python",
   "name": "python3"
  },
  "language_info": {
   "codemirror_mode": {
    "name": "ipython",
    "version": 3
   },
   "file_extension": ".py",
   "mimetype": "text/x-python",
   "name": "python",
   "nbconvert_exporter": "python",
   "pygments_lexer": "ipython3",
   "version": "3.6.3"
  }
 },
 "nbformat": 4,
 "nbformat_minor": 2
}
